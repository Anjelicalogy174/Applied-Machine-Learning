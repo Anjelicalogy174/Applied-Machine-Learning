{
 "cells": [
  {
   "cell_type": "markdown",
   "metadata": {},
   "source": [
    "# ML Task 3- Use Case\n",
    "\n",
    "### CASTILLO, ANJELICA M."
   ]
  },
  {
   "cell_type": "markdown",
   "metadata": {},
   "source": [
    "#### Question 1: Define the problem\n"
   ]
  },
  {
   "cell_type": "markdown",
   "metadata": {},
   "source": [
    "Analyzing traffic flow in NCR to optimize signal timings, reduce congestion, and improve transportation efficiency."
   ]
  },
  {
   "cell_type": "markdown",
   "metadata": {},
   "source": [
    "Traffic congestion is a critical issue affecting urban mobility and transportation efficiency. The objective of this project is to predict the Annual Average Daily Traffic (AADT) using machine learning techniques. By leveraging historical traffic data and statistical analysis, the model aims to provide insights that can aid city planners and policymakers in traffic management in NCR."
   ]
  },
  {
   "cell_type": "markdown",
   "metadata": {},
   "source": [
    "#### Question 2: Identify data sources and collection methods"
   ]
  },
  {
   "cell_type": "markdown",
   "metadata": {},
   "source": [
    "1. Government traffic reports (DPWH GIS Web App): https://www.dpwh.gov.ph/dpwh/gis/rti"
   ]
  },
  {
   "cell_type": "markdown",
   "metadata": {},
   "source": [
    "#### Question 3: Define the features (variables) relevant to the problem."
   ]
  },
  {
   "cell_type": "markdown",
   "metadata": {},
   "source": [
    "To ensure the reliability of the dataset, various statistical techniques were applied:"
   ]
  },
  {
   "cell_type": "code",
   "execution_count": 89,
   "metadata": {},
   "outputs": [],
   "source": [
    "import pandas as pd\n",
    "import numpy as np\n",
    "import matplotlib.pyplot as plt\n",
    "import seaborn as sns"
   ]
  },
  {
   "cell_type": "code",
   "execution_count": 90,
   "metadata": {},
   "outputs": [],
   "source": [
    "df = pd.read_csv(r\"C:\\Users\\Anjel\\Downloads\\2023_2022_AADT_MM.csv\")"
   ]
  },
  {
   "cell_type": "code",
   "execution_count": 91,
   "metadata": {},
   "outputs": [
    {
     "data": {
      "text/html": [
       "<div>\n",
       "<style scoped>\n",
       "    .dataframe tbody tr th:only-of-type {\n",
       "        vertical-align: middle;\n",
       "    }\n",
       "\n",
       "    .dataframe tbody tr th {\n",
       "        vertical-align: top;\n",
       "    }\n",
       "\n",
       "    .dataframe thead th {\n",
       "        text-align: right;\n",
       "    }\n",
       "</style>\n",
       "<table border=\"1\" class=\"dataframe\">\n",
       "  <thead>\n",
       "    <tr style=\"text-align: right;\">\n",
       "      <th></th>\n",
       "      <th>Road_ID</th>\n",
       "      <th>CIRCUMFERENCIAL AND RADIAL ROAD</th>\n",
       "      <th>CAR</th>\n",
       "      <th>PUJ</th>\n",
       "      <th>UV</th>\n",
       "      <th>TAXI</th>\n",
       "      <th>PUB</th>\n",
       "      <th>TRUCK</th>\n",
       "      <th>TRAILER</th>\n",
       "      <th>MC</th>\n",
       "      <th>TRICYCLE</th>\n",
       "      <th>YEAR</th>\n",
       "    </tr>\n",
       "  </thead>\n",
       "  <tbody>\n",
       "    <tr>\n",
       "      <th>0</th>\n",
       "      <td>C:1</td>\n",
       "      <td>RECTO</td>\n",
       "      <td>24,747</td>\n",
       "      <td>7,269</td>\n",
       "      <td>727</td>\n",
       "      <td>1,678</td>\n",
       "      <td>593</td>\n",
       "      <td>666</td>\n",
       "      <td>115</td>\n",
       "      <td>49,406</td>\n",
       "      <td>2,190</td>\n",
       "      <td>2023</td>\n",
       "    </tr>\n",
       "    <tr>\n",
       "      <th>1</th>\n",
       "      <td>C:2</td>\n",
       "      <td>MENDOZA</td>\n",
       "      <td>57,755</td>\n",
       "      <td>11</td>\n",
       "      <td>81</td>\n",
       "      <td>3,102</td>\n",
       "      <td>240</td>\n",
       "      <td>6,706</td>\n",
       "      <td>1,218</td>\n",
       "      <td>74,200</td>\n",
       "      <td>1,922</td>\n",
       "      <td>2023</td>\n",
       "    </tr>\n",
       "    <tr>\n",
       "      <th>2</th>\n",
       "      <td>NaN</td>\n",
       "      <td>PRES. QUIRINO AVE.</td>\n",
       "      <td>73,167</td>\n",
       "      <td>727</td>\n",
       "      <td>64</td>\n",
       "      <td>3,837</td>\n",
       "      <td>364</td>\n",
       "      <td>7,606</td>\n",
       "      <td>1,251</td>\n",
       "      <td>88,445</td>\n",
       "      <td>2,420</td>\n",
       "      <td>2023</td>\n",
       "    </tr>\n",
       "    <tr>\n",
       "      <th>3</th>\n",
       "      <td>C:3</td>\n",
       "      <td>ARANETA AVE.</td>\n",
       "      <td>72,782</td>\n",
       "      <td>45</td>\n",
       "      <td>15</td>\n",
       "      <td>2,418</td>\n",
       "      <td>248</td>\n",
       "      <td>3,329</td>\n",
       "      <td>425</td>\n",
       "      <td>51,266</td>\n",
       "      <td>1,694</td>\n",
       "      <td>2023</td>\n",
       "    </tr>\n",
       "    <tr>\n",
       "      <th>4</th>\n",
       "      <td>C:4</td>\n",
       "      <td>EDSA</td>\n",
       "      <td>216,934</td>\n",
       "      <td>1,740</td>\n",
       "      <td>2,504</td>\n",
       "      <td>15,001</td>\n",
       "      <td>3,824</td>\n",
       "      <td>2,533</td>\n",
       "      <td>110</td>\n",
       "      <td>164,673</td>\n",
       "      <td>23</td>\n",
       "      <td>2023</td>\n",
       "    </tr>\n",
       "  </tbody>\n",
       "</table>\n",
       "</div>"
      ],
      "text/plain": [
       "  Road_ID CIRCUMFERENCIAL AND RADIAL ROAD      CAR    PUJ     UV    TAXI  \\\n",
       "0     C:1                           RECTO   24,747  7,269    727   1,678   \n",
       "1     C:2                         MENDOZA   57,755     11     81   3,102   \n",
       "2     NaN              PRES. QUIRINO AVE.   73,167    727     64   3,837   \n",
       "3     C:3                    ARANETA AVE.   72,782     45     15   2,418   \n",
       "4     C:4                            EDSA  216,934  1,740  2,504  15,001   \n",
       "\n",
       "     PUB  TRUCK TRAILER       MC TRICYCLE  YEAR  \n",
       "0    593    666     115   49,406    2,190  2023  \n",
       "1    240  6,706   1,218   74,200    1,922  2023  \n",
       "2    364  7,606   1,251   88,445    2,420  2023  \n",
       "3    248  3,329     425   51,266    1,694  2023  \n",
       "4  3,824  2,533     110  164,673       23  2023  "
      ]
     },
     "execution_count": 91,
     "metadata": {},
     "output_type": "execute_result"
    }
   ],
   "source": [
    "df.head()"
   ]
  },
  {
   "cell_type": "code",
   "execution_count": 92,
   "metadata": {},
   "outputs": [
    {
     "name": "stdout",
     "output_type": "stream",
     "text": [
      "Data Types:\n",
      " Road_ID                            object\n",
      "CIRCUMFERENCIAL AND RADIAL ROAD    object\n",
      "CAR                                object\n",
      "PUJ                                object\n",
      "UV                                 object\n",
      "TAXI                               object\n",
      "PUB                                object\n",
      "TRUCK                              object\n",
      "TRAILER                            object\n",
      "MC                                 object\n",
      "TRICYCLE                           object\n",
      "YEAR                                int64\n",
      "dtype: object\n"
     ]
    }
   ],
   "source": [
    "print(\"Data Types:\\n\", df.dtypes)"
   ]
  },
  {
   "cell_type": "code",
   "execution_count": 93,
   "metadata": {},
   "outputs": [
    {
     "name": "stdout",
     "output_type": "stream",
     "text": [
      "Relevant Features: ['Road_ID', 'CIRCUMFERENCIAL AND RADIAL ROAD', 'CAR', 'PUJ', 'UV', 'TAXI', 'PUB', 'TRUCK', 'TRAILER', 'MC', 'TRICYCLE', 'YEAR']\n"
     ]
    }
   ],
   "source": [
    "features = df.columns.tolist()\n",
    "print(\"Relevant Features:\", features)"
   ]
  },
  {
   "cell_type": "markdown",
   "metadata": {},
   "source": [
    "#### Question 4: Explain why this data is critical for solving the problem."
   ]
  },
  {
   "cell_type": "markdown",
   "metadata": {},
   "source": [
    "This data is critical as it provides insights into the number of vehicles on each road segment. By analyzing this data, one can predict traffic congestion, optimize traffic flow, and improve city planning."
   ]
  },
  {
   "cell_type": "markdown",
   "metadata": {},
   "source": [
    "#### Question 5: Assess the data quality and relevance  by verifying whether the dataset is complete, unbiased and represented."
   ]
  },
  {
   "cell_type": "code",
   "execution_count": 94,
   "metadata": {},
   "outputs": [
    {
     "data": {
      "text/plain": [
       "'Data Quality for 2022:\\n'"
      ]
     },
     "metadata": {},
     "output_type": "display_data"
    },
    {
     "data": {
      "text/plain": [
       "{'Missing Values': Road_ID                            10\n",
       " CIRCUMFERENCIAL AND RADIAL ROAD     0\n",
       " CAR                                 0\n",
       " PUJ                                 0\n",
       " UV                                  0\n",
       " TAXI                                0\n",
       " PUB                                 0\n",
       " TRUCK                               0\n",
       " TRAILER                             0\n",
       " MC                                  0\n",
       " TRICYCLE                            0\n",
       " YEAR                                0\n",
       " dtype: int64,\n",
       " 'Unique Values': Road_ID                            15\n",
       " CIRCUMFERENCIAL AND RADIAL ROAD    27\n",
       " CAR                                40\n",
       " PUJ                                40\n",
       " UV                                 38\n",
       " TAXI                               40\n",
       " PUB                                39\n",
       " TRUCK                              40\n",
       " TRAILER                            39\n",
       " MC                                 40\n",
       " TRICYCLE                           39\n",
       " YEAR                                2\n",
       " dtype: int64}"
      ]
     },
     "metadata": {},
     "output_type": "display_data"
    }
   ],
   "source": [
    "data_quality = {\n",
    "    \"Missing Values\": df.isnull().sum(),\n",
    "    \"Unique Values\": df.nunique()\n",
    "}\n",
    "\n",
    "display(\"Data Quality for 2022:\\n\", data_quality)"
   ]
  },
  {
   "cell_type": "markdown",
   "metadata": {},
   "source": [
    "#### Question 6: Identify the missing values and inconsistencies"
   ]
  },
  {
   "cell_type": "code",
   "execution_count": 95,
   "metadata": {},
   "outputs": [
    {
     "name": "stdout",
     "output_type": "stream",
     "text": [
      "Missing Values in 2022:\n",
      " Road_ID                            10\n",
      "CIRCUMFERENCIAL AND RADIAL ROAD     0\n",
      "CAR                                 0\n",
      "PUJ                                 0\n",
      "UV                                  0\n",
      "TAXI                                0\n",
      "PUB                                 0\n",
      "TRUCK                               0\n",
      "TRAILER                             0\n",
      "MC                                  0\n",
      "TRICYCLE                            0\n",
      "YEAR                                0\n",
      "dtype: int64\n"
     ]
    }
   ],
   "source": [
    "print(\"Missing Values in 2022:\\n\", df.isnull().sum())"
   ]
  },
  {
   "cell_type": "markdown",
   "metadata": {},
   "source": [
    "#### Question 7: Analyze the data distribution"
   ]
  },
  {
   "cell_type": "code",
   "execution_count": 96,
   "metadata": {},
   "outputs": [
    {
     "data": {
      "application/vnd.plotly.v1+json": {
       "config": {
        "plotlyServerURL": "https://plot.ly"
       },
       "data": [
        {
         "alignmentgroup": "True",
         "hovertemplate": "Year=2022<br>Vehicle Type=%{x}<br>Vehicle Count=%{y}<extra></extra>",
         "legendgroup": "2022",
         "marker": {
          "color": "gray",
          "pattern": {
           "shape": ""
          }
         },
         "name": "2022",
         "offsetgroup": "2022",
         "orientation": "v",
         "showlegend": true,
         "textposition": "auto",
         "type": "bar",
         "x": [
          "CAR",
          "PUJ",
          "UV",
          "TAXI",
          "PUB",
          "TRUCK",
          "TRAILER",
          "MC",
          "TRICYCLE"
         ],
         "xaxis": "x",
         "y": [
          "100,373",
          "7,861",
          "805",
          "6,473",
          "542",
          "4,853",
          "343",
          "106,963",
          "257"
         ],
         "yaxis": "y"
        },
        {
         "alignmentgroup": "True",
         "hovertemplate": "Year=2023<br>Vehicle Type=%{x}<br>Vehicle Count=%{y}<extra></extra>",
         "legendgroup": "2023",
         "marker": {
          "color": "blue",
          "pattern": {
           "shape": ""
          }
         },
         "name": "2023",
         "offsetgroup": "2023",
         "orientation": "v",
         "showlegend": true,
         "textposition": "auto",
         "type": "bar",
         "x": [
          "CAR",
          "PUJ",
          "UV",
          "TAXI",
          "PUB",
          "TRUCK",
          "TRAILER",
          "MC",
          "TRICYCLE"
         ],
         "xaxis": "x",
         "y": [
          "110,378",
          "11,185",
          "636",
          "4,749",
          "440",
          "6,604",
          "481",
          "108,876",
          "287"
         ],
         "yaxis": "y"
        }
       ],
       "layout": {
        "barmode": "group",
        "font": {
         "family": "Arial"
        },
        "legend": {
         "title": {
          "text": "Year"
         },
         "tracegroupgap": 0
        },
        "showlegend": true,
        "template": {
         "data": {
          "bar": [
           {
            "error_x": {
             "color": "#2a3f5f"
            },
            "error_y": {
             "color": "#2a3f5f"
            },
            "marker": {
             "line": {
              "color": "#E5ECF6",
              "width": 0.5
             },
             "pattern": {
              "fillmode": "overlay",
              "size": 10,
              "solidity": 0.2
             }
            },
            "type": "bar"
           }
          ],
          "barpolar": [
           {
            "marker": {
             "line": {
              "color": "#E5ECF6",
              "width": 0.5
             },
             "pattern": {
              "fillmode": "overlay",
              "size": 10,
              "solidity": 0.2
             }
            },
            "type": "barpolar"
           }
          ],
          "carpet": [
           {
            "aaxis": {
             "endlinecolor": "#2a3f5f",
             "gridcolor": "white",
             "linecolor": "white",
             "minorgridcolor": "white",
             "startlinecolor": "#2a3f5f"
            },
            "baxis": {
             "endlinecolor": "#2a3f5f",
             "gridcolor": "white",
             "linecolor": "white",
             "minorgridcolor": "white",
             "startlinecolor": "#2a3f5f"
            },
            "type": "carpet"
           }
          ],
          "choropleth": [
           {
            "colorbar": {
             "outlinewidth": 0,
             "ticks": ""
            },
            "type": "choropleth"
           }
          ],
          "contour": [
           {
            "colorbar": {
             "outlinewidth": 0,
             "ticks": ""
            },
            "colorscale": [
             [
              0,
              "#0d0887"
             ],
             [
              0.1111111111111111,
              "#46039f"
             ],
             [
              0.2222222222222222,
              "#7201a8"
             ],
             [
              0.3333333333333333,
              "#9c179e"
             ],
             [
              0.4444444444444444,
              "#bd3786"
             ],
             [
              0.5555555555555556,
              "#d8576b"
             ],
             [
              0.6666666666666666,
              "#ed7953"
             ],
             [
              0.7777777777777778,
              "#fb9f3a"
             ],
             [
              0.8888888888888888,
              "#fdca26"
             ],
             [
              1,
              "#f0f921"
             ]
            ],
            "type": "contour"
           }
          ],
          "contourcarpet": [
           {
            "colorbar": {
             "outlinewidth": 0,
             "ticks": ""
            },
            "type": "contourcarpet"
           }
          ],
          "heatmap": [
           {
            "colorbar": {
             "outlinewidth": 0,
             "ticks": ""
            },
            "colorscale": [
             [
              0,
              "#0d0887"
             ],
             [
              0.1111111111111111,
              "#46039f"
             ],
             [
              0.2222222222222222,
              "#7201a8"
             ],
             [
              0.3333333333333333,
              "#9c179e"
             ],
             [
              0.4444444444444444,
              "#bd3786"
             ],
             [
              0.5555555555555556,
              "#d8576b"
             ],
             [
              0.6666666666666666,
              "#ed7953"
             ],
             [
              0.7777777777777778,
              "#fb9f3a"
             ],
             [
              0.8888888888888888,
              "#fdca26"
             ],
             [
              1,
              "#f0f921"
             ]
            ],
            "type": "heatmap"
           }
          ],
          "histogram": [
           {
            "marker": {
             "pattern": {
              "fillmode": "overlay",
              "size": 10,
              "solidity": 0.2
             }
            },
            "type": "histogram"
           }
          ],
          "histogram2d": [
           {
            "colorbar": {
             "outlinewidth": 0,
             "ticks": ""
            },
            "colorscale": [
             [
              0,
              "#0d0887"
             ],
             [
              0.1111111111111111,
              "#46039f"
             ],
             [
              0.2222222222222222,
              "#7201a8"
             ],
             [
              0.3333333333333333,
              "#9c179e"
             ],
             [
              0.4444444444444444,
              "#bd3786"
             ],
             [
              0.5555555555555556,
              "#d8576b"
             ],
             [
              0.6666666666666666,
              "#ed7953"
             ],
             [
              0.7777777777777778,
              "#fb9f3a"
             ],
             [
              0.8888888888888888,
              "#fdca26"
             ],
             [
              1,
              "#f0f921"
             ]
            ],
            "type": "histogram2d"
           }
          ],
          "histogram2dcontour": [
           {
            "colorbar": {
             "outlinewidth": 0,
             "ticks": ""
            },
            "colorscale": [
             [
              0,
              "#0d0887"
             ],
             [
              0.1111111111111111,
              "#46039f"
             ],
             [
              0.2222222222222222,
              "#7201a8"
             ],
             [
              0.3333333333333333,
              "#9c179e"
             ],
             [
              0.4444444444444444,
              "#bd3786"
             ],
             [
              0.5555555555555556,
              "#d8576b"
             ],
             [
              0.6666666666666666,
              "#ed7953"
             ],
             [
              0.7777777777777778,
              "#fb9f3a"
             ],
             [
              0.8888888888888888,
              "#fdca26"
             ],
             [
              1,
              "#f0f921"
             ]
            ],
            "type": "histogram2dcontour"
           }
          ],
          "mesh3d": [
           {
            "colorbar": {
             "outlinewidth": 0,
             "ticks": ""
            },
            "type": "mesh3d"
           }
          ],
          "parcoords": [
           {
            "line": {
             "colorbar": {
              "outlinewidth": 0,
              "ticks": ""
             }
            },
            "type": "parcoords"
           }
          ],
          "pie": [
           {
            "automargin": true,
            "type": "pie"
           }
          ],
          "scatter": [
           {
            "fillpattern": {
             "fillmode": "overlay",
             "size": 10,
             "solidity": 0.2
            },
            "type": "scatter"
           }
          ],
          "scatter3d": [
           {
            "line": {
             "colorbar": {
              "outlinewidth": 0,
              "ticks": ""
             }
            },
            "marker": {
             "colorbar": {
              "outlinewidth": 0,
              "ticks": ""
             }
            },
            "type": "scatter3d"
           }
          ],
          "scattercarpet": [
           {
            "marker": {
             "colorbar": {
              "outlinewidth": 0,
              "ticks": ""
             }
            },
            "type": "scattercarpet"
           }
          ],
          "scattergeo": [
           {
            "marker": {
             "colorbar": {
              "outlinewidth": 0,
              "ticks": ""
             }
            },
            "type": "scattergeo"
           }
          ],
          "scattergl": [
           {
            "marker": {
             "colorbar": {
              "outlinewidth": 0,
              "ticks": ""
             }
            },
            "type": "scattergl"
           }
          ],
          "scattermap": [
           {
            "marker": {
             "colorbar": {
              "outlinewidth": 0,
              "ticks": ""
             }
            },
            "type": "scattermap"
           }
          ],
          "scattermapbox": [
           {
            "marker": {
             "colorbar": {
              "outlinewidth": 0,
              "ticks": ""
             }
            },
            "type": "scattermapbox"
           }
          ],
          "scatterpolar": [
           {
            "marker": {
             "colorbar": {
              "outlinewidth": 0,
              "ticks": ""
             }
            },
            "type": "scatterpolar"
           }
          ],
          "scatterpolargl": [
           {
            "marker": {
             "colorbar": {
              "outlinewidth": 0,
              "ticks": ""
             }
            },
            "type": "scatterpolargl"
           }
          ],
          "scatterternary": [
           {
            "marker": {
             "colorbar": {
              "outlinewidth": 0,
              "ticks": ""
             }
            },
            "type": "scatterternary"
           }
          ],
          "surface": [
           {
            "colorbar": {
             "outlinewidth": 0,
             "ticks": ""
            },
            "colorscale": [
             [
              0,
              "#0d0887"
             ],
             [
              0.1111111111111111,
              "#46039f"
             ],
             [
              0.2222222222222222,
              "#7201a8"
             ],
             [
              0.3333333333333333,
              "#9c179e"
             ],
             [
              0.4444444444444444,
              "#bd3786"
             ],
             [
              0.5555555555555556,
              "#d8576b"
             ],
             [
              0.6666666666666666,
              "#ed7953"
             ],
             [
              0.7777777777777778,
              "#fb9f3a"
             ],
             [
              0.8888888888888888,
              "#fdca26"
             ],
             [
              1,
              "#f0f921"
             ]
            ],
            "type": "surface"
           }
          ],
          "table": [
           {
            "cells": {
             "fill": {
              "color": "#EBF0F8"
             },
             "line": {
              "color": "white"
             }
            },
            "header": {
             "fill": {
              "color": "#C8D4E3"
             },
             "line": {
              "color": "white"
             }
            },
            "type": "table"
           }
          ]
         },
         "layout": {
          "annotationdefaults": {
           "arrowcolor": "#2a3f5f",
           "arrowhead": 0,
           "arrowwidth": 1
          },
          "autotypenumbers": "strict",
          "coloraxis": {
           "colorbar": {
            "outlinewidth": 0,
            "ticks": ""
           }
          },
          "colorscale": {
           "diverging": [
            [
             0,
             "#8e0152"
            ],
            [
             0.1,
             "#c51b7d"
            ],
            [
             0.2,
             "#de77ae"
            ],
            [
             0.3,
             "#f1b6da"
            ],
            [
             0.4,
             "#fde0ef"
            ],
            [
             0.5,
             "#f7f7f7"
            ],
            [
             0.6,
             "#e6f5d0"
            ],
            [
             0.7,
             "#b8e186"
            ],
            [
             0.8,
             "#7fbc41"
            ],
            [
             0.9,
             "#4d9221"
            ],
            [
             1,
             "#276419"
            ]
           ],
           "sequential": [
            [
             0,
             "#0d0887"
            ],
            [
             0.1111111111111111,
             "#46039f"
            ],
            [
             0.2222222222222222,
             "#7201a8"
            ],
            [
             0.3333333333333333,
             "#9c179e"
            ],
            [
             0.4444444444444444,
             "#bd3786"
            ],
            [
             0.5555555555555556,
             "#d8576b"
            ],
            [
             0.6666666666666666,
             "#ed7953"
            ],
            [
             0.7777777777777778,
             "#fb9f3a"
            ],
            [
             0.8888888888888888,
             "#fdca26"
            ],
            [
             1,
             "#f0f921"
            ]
           ],
           "sequentialminus": [
            [
             0,
             "#0d0887"
            ],
            [
             0.1111111111111111,
             "#46039f"
            ],
            [
             0.2222222222222222,
             "#7201a8"
            ],
            [
             0.3333333333333333,
             "#9c179e"
            ],
            [
             0.4444444444444444,
             "#bd3786"
            ],
            [
             0.5555555555555556,
             "#d8576b"
            ],
            [
             0.6666666666666666,
             "#ed7953"
            ],
            [
             0.7777777777777778,
             "#fb9f3a"
            ],
            [
             0.8888888888888888,
             "#fdca26"
            ],
            [
             1,
             "#f0f921"
            ]
           ]
          },
          "colorway": [
           "#636efa",
           "#EF553B",
           "#00cc96",
           "#ab63fa",
           "#FFA15A",
           "#19d3f3",
           "#FF6692",
           "#B6E880",
           "#FF97FF",
           "#FECB52"
          ],
          "font": {
           "color": "#2a3f5f"
          },
          "geo": {
           "bgcolor": "white",
           "lakecolor": "white",
           "landcolor": "#E5ECF6",
           "showlakes": true,
           "showland": true,
           "subunitcolor": "white"
          },
          "hoverlabel": {
           "align": "left"
          },
          "hovermode": "closest",
          "mapbox": {
           "style": "light"
          },
          "paper_bgcolor": "white",
          "plot_bgcolor": "#E5ECF6",
          "polar": {
           "angularaxis": {
            "gridcolor": "white",
            "linecolor": "white",
            "ticks": ""
           },
           "bgcolor": "#E5ECF6",
           "radialaxis": {
            "gridcolor": "white",
            "linecolor": "white",
            "ticks": ""
           }
          },
          "scene": {
           "xaxis": {
            "backgroundcolor": "#E5ECF6",
            "gridcolor": "white",
            "gridwidth": 2,
            "linecolor": "white",
            "showbackground": true,
            "ticks": "",
            "zerolinecolor": "white"
           },
           "yaxis": {
            "backgroundcolor": "#E5ECF6",
            "gridcolor": "white",
            "gridwidth": 2,
            "linecolor": "white",
            "showbackground": true,
            "ticks": "",
            "zerolinecolor": "white"
           },
           "zaxis": {
            "backgroundcolor": "#E5ECF6",
            "gridcolor": "white",
            "gridwidth": 2,
            "linecolor": "white",
            "showbackground": true,
            "ticks": "",
            "zerolinecolor": "white"
           }
          },
          "shapedefaults": {
           "line": {
            "color": "#2a3f5f"
           }
          },
          "ternary": {
           "aaxis": {
            "gridcolor": "white",
            "linecolor": "white",
            "ticks": ""
           },
           "baxis": {
            "gridcolor": "white",
            "linecolor": "white",
            "ticks": ""
           },
           "bgcolor": "#E5ECF6",
           "caxis": {
            "gridcolor": "white",
            "linecolor": "white",
            "ticks": ""
           }
          },
          "title": {
           "x": 0.05
          },
          "xaxis": {
           "automargin": true,
           "gridcolor": "white",
           "linecolor": "white",
           "ticks": "",
           "title": {
            "standoff": 15
           },
           "zerolinecolor": "white",
           "zerolinewidth": 2
          },
          "yaxis": {
           "automargin": true,
           "gridcolor": "white",
           "linecolor": "white",
           "ticks": "",
           "title": {
            "standoff": 15
           },
           "zerolinecolor": "white",
           "zerolinewidth": 2
          }
         }
        },
        "title": {
         "text": "Vehicle Count Comparison for Marcos Highway: 2023 vs 2022"
        },
        "xaxis": {
         "anchor": "y",
         "domain": [
          0,
          1
         ],
         "tickangle": 0,
         "title": {
          "text": "Vehicle Type"
         }
        },
        "yaxis": {
         "anchor": "x",
         "domain": [
          0,
          1
         ],
         "ticktext": [
          "200",
          "400k",
          "600",
          "800",
          "1000",
          "2000"
         ],
         "tickvals": [
          200,
          400,
          600,
          800,
          1000,
          2000
         ],
         "title": {
          "text": "Vehicle Count"
         }
        }
       }
      }
     },
     "metadata": {},
     "output_type": "display_data"
    }
   ],
   "source": [
    "import plotly.express as px\n",
    "import pandas as pd\n",
    "\n",
    "# Filter the data for Marcos Highway\n",
    "marcos_hway_data = df[df['CIRCUMFERENCIAL AND RADIAL ROAD'] == \"MARCOS HIGHWAY\"]\n",
    "\n",
    "# Further filter the data for years 2022 and 2023\n",
    "data_2022_marcos = marcos_hway_data[marcos_hway_data['YEAR'] == 2022]\n",
    "data_2023_marcos = marcos_hway_data[marcos_hway_data['YEAR'] == 2023]\n",
    "\n",
    "# List of vehicle types\n",
    "vehicle_columns = ['CAR', 'PUJ', 'UV', 'TAXI', 'PUB', 'TRUCK', 'TRAILER', 'MC', 'TRICYCLE']\n",
    "\n",
    "# Group the data by vehicle type for 2022 and 2023 for Marcos Highway\n",
    "data_2022_grouped = data_2022_marcos[vehicle_columns].sum()\n",
    "data_2023_grouped = data_2023_marcos[vehicle_columns].sum()\n",
    "\n",
    "# Create a dataframe for comparison\n",
    "df_comparison = pd.DataFrame({\n",
    "    'Vehicle Type': vehicle_columns,\n",
    "    '2022': data_2022_grouped.values,\n",
    "    '2023': data_2023_grouped.values\n",
    "})\n",
    "\n",
    "# Reshape the dataframe for plotting\n",
    "df_comparison_melted = df_comparison.melt(id_vars=\"Vehicle Type\", var_name=\"Year\", value_name=\"Vehicle Count\")\n",
    "\n",
    "# Create the double bar plot with specified color for comparison using Plotly\n",
    "fig = px.bar(df_comparison_melted, \n",
    "             x='Vehicle Type', y='Vehicle Count', \n",
    "             color='Year', barmode='group',\n",
    "             color_discrete_map={'2022': 'gray', '2023': 'blue'},\n",
    "             title=\"Vehicle Count Comparison for Marcos Highway: 2023 vs 2022\")\n",
    "\n",
    "\n",
    "# Customize the layout for log scale and set tick marks every 20000\n",
    "fig.update_layout(\n",
    "    xaxis_title=\"Vehicle Type\",\n",
    "    yaxis_title=\"Vehicle Count\",\n",
    "    xaxis_tickangle=0,\n",
    "    yaxis=dict(\n",
    "        tickvals=[200, 400, 600, 800, 1000, 2000],  # Set ticks every 20,000\n",
    "        ticktext=[\"200\", \"400k\", \"600\", \"800\", \"1000\", \"2000\"],  # Custom labels for ticks\n",
    "    ),\n",
    "    showlegend=True,\n",
    "    font=dict(family=\"Arial\"),\n",
    ")\n",
    "\n",
    "# Show the plot\n",
    "fig.show()\n"
   ]
  },
  {
   "cell_type": "markdown",
   "metadata": {},
   "source": [
    "#### Question 8: Illustrate Data Status with appropriate visualization"
   ]
  },
  {
   "cell_type": "code",
   "execution_count": 97,
   "metadata": {},
   "outputs": [
    {
     "data": {
      "image/png": "[encoded data removed]",
      "text/plain": [
       "<Figure size 1000x600 with 1 Axes>"
      ]
     },
     "metadata": {},
     "output_type": "display_data"
    }
   ],
   "source": [
    "import pandas as pd\n",
    "import matplotlib.pyplot as plt\n",
    "import seaborn as sns\n",
    "\n",
    "# Ensure numeric conversion for vehicle count columns\n",
    "vehicle_columns = [\"CAR\", \"PUJ\", \"UV\", \"TAXI\", \"PUB\", \"TRUCK\", \"TRAILER\", \"MC\", \"TRICYCLE\"]\n",
    "df[vehicle_columns] = df[vehicle_columns].replace(\",\", \"\", regex=True).apply(pd.to_numeric, errors=\"coerce\")\n",
    "\n",
    "# Calculate AADT by summing vehicle types\n",
    "df[\"AADT\"] = df[vehicle_columns].sum(axis=1)\n",
    "\n",
    "# Filter data for each year\n",
    "df_2022 = df[df[\"YEAR\"] == 2022]\n",
    "df_2023 = df[df[\"YEAR\"] == 2023]\n",
    "\n",
    "# Plot the KDE for AADT in 2022 and 2023\n",
    "plt.figure(figsize=(10, 6))\n",
    "sns.kdeplot(df_2022[\"AADT\"], label=\"2022\", fill=True, color=\"blue\")\n",
    "sns.kdeplot(df_2023[\"AADT\"], label=\"2023\", fill=True, color=\"gray\")\n",
    "plt.title(\"Comparison of Annual Average Daily Traffic (AADT) in 2022 and 2023\")\n",
    "plt.legend()\n",
    "plt.show()\n"
   ]
  },
  {
   "cell_type": "markdown",
   "metadata": {},
   "source": [
    "#### Question 9: Detect and handle outliers\n"
   ]
  },
  {
   "cell_type": "code",
   "execution_count": 98,
   "metadata": {},
   "outputs": [
    {
     "name": "stdout",
     "output_type": "stream",
     "text": [
      "Outliers detected:\n",
      "    Road_ID CIRCUMFERENCIAL AND RADIAL ROAD     CAR    PUJ    UV   TAXI   PUB  \\\n",
      "4      C:4                            EDSA  216934   1740  2504  15001  3824   \n",
      "14     R:7               COMMONWEALTH AVE.  171866  14556  5853  13162  4088   \n",
      "24     C:4                            EDSA  202764   1803  2475  18186  5588   \n",
      "\n",
      "    TRUCK  TRAILER      MC  TRICYCLE  YEAR    AADT  \n",
      "4    2533      110  164673        23  2023  407342  \n",
      "14   6907      391  189594      1571  2023  407988  \n",
      "24   2295      119  151847        20  2022  385097  \n"
     ]
    }
   ],
   "source": [
    "# Detect outliers using the IQR method\n",
    "def detect_outliers(df, column):\n",
    "    Q1 = df[column].quantile(0.25)\n",
    "    Q3 = df[column].quantile(0.75)\n",
    "    IQR = Q3 - Q1\n",
    "    return df[(df[column] < (Q1 - 1.5 * IQR)) | (df[column] > (Q3 + 1.5 * IQR))]\n",
    "\n",
    "# Combine 2022 and 2023 data for outlier detection\n",
    "df[\"AADT\"] = df[[\"CAR\", \"PUJ\", \"UV\", \"TAXI\", \"PUB\", \"TRUCK\", \"TRAILER\", \"MC\", \"TRICYCLE\"]].sum(axis=1)\n",
    "\n",
    "outliers = detect_outliers(df, \"AADT\")\n",
    "print(\"Outliers detected:\\n\", outliers)\n"
   ]
  },
  {
   "cell_type": "code",
   "execution_count": 99,
   "metadata": {},
   "outputs": [
    {
     "data": {
      "image/png": "[encoded data removed]",
      "text/plain": [
       "<Figure size 800x500 with 1 Axes>"
      ]
     },
     "metadata": {},
     "output_type": "display_data"
    }
   ],
   "source": [
    "import matplotlib.pyplot as plt\n",
    "import seaborn as sns\n",
    "\n",
    "plt.figure(figsize=(8, 5))\n",
    "sns.boxplot(x=df[\"AADT\"])\n",
    "plt.title(\"Boxplot of AADT (Detecting Outliers)\")\n",
    "plt.show()\n"
   ]
  },
  {
   "cell_type": "markdown",
   "metadata": {},
   "source": [
    "#### Question 10:  Given a dataset with multiple features, how would you determine which features are most relevant for your machine learning model? Describe at least two feature selection techniques and their advantages."
   ]
  },
  {
   "cell_type": "markdown",
   "metadata": {},
   "source": [
    "To identify the most important features for predicting traffic flow, I use two methods:\n",
    "\n",
    "1. SelectKBest ranks features based on their correlation with AADT and selects the most relevant ones.\n",
    "2. RandomForest provides an importance score, allowing us to see which features contribute the most to predictions."
   ]
  },
  {
   "cell_type": "code",
   "execution_count": 100,
   "metadata": {},
   "outputs": [
    {
     "name": "stdout",
     "output_type": "stream",
     "text": [
      "Selected Features using SelectKBest: Index(['CAR', 'UV', 'TAXI', 'PUB', 'MC'], dtype='object')\n",
      "Feature Importance Ranking:\n",
      " CAR         0.560160\n",
      "MC          0.299382\n",
      "TAXI        0.086395\n",
      "PUB         0.023978\n",
      "TRAILER     0.008544\n",
      "TRUCK       0.007763\n",
      "TRICYCLE    0.005887\n",
      "UV          0.004267\n",
      "PUJ         0.003623\n",
      "dtype: float64\n"
     ]
    }
   ],
   "source": [
    "from sklearn.ensemble import RandomForestRegressor\n",
    "from sklearn.feature_selection import SelectKBest, f_regression\n",
    "\n",
    "# Defining features and target\n",
    "X = df.drop(columns=[\"AADT\", \"YEAR\"], errors='ignore')\n",
    "y = df[\"AADT\"]\n",
    "\n",
    "# Convert categorical features to numerical\n",
    "df_encoded = pd.get_dummies(X, drop_first=True)\n",
    "\n",
    "# Using SelectKBest\n",
    "X_numeric = df_encoded.select_dtypes(include=[np.number])\n",
    "selector = SelectKBest(score_func=f_regression, k=5)\n",
    "selector.fit(X_numeric, y)\n",
    "selected_features = X_numeric.columns[selector.get_support()]\n",
    "print(\"Selected Features using SelectKBest:\", selected_features)\n",
    "\n",
    "# Using RandomForest Feature Importance\n",
    "model = RandomForestRegressor()\n",
    "model.fit(X_numeric, y)\n",
    "feature_importances = pd.Series(model.feature_importances_, index=X_numeric.columns)\n",
    "print(\"Feature Importance Ranking:\\n\", feature_importances.sort_values(ascending=False))\n"
   ]
  },
  {
   "cell_type": "markdown",
   "metadata": {},
   "source": [
    "#### Question 11: You detected several extreme values in your dataset using the IQR method and Z-score analysis. How would you decide whether to remove, transform, or retain these outliers? Provide examples of when each approach is appropriate."
   ]
  },
  {
   "cell_type": "markdown",
   "metadata": {},
   "source": [
    "The decision to remove, transform, or retain outliers depends on their cause and impact on analysis. Outliers should be removed if they result from data entry errors, sensor malfunctions, or temporary anomalies (e.g., traffic spikes due to accidents). Transformation methods (such as log, square root, or Box-Cox transformations) are suitable when outliers distort normality but still contain valuable information, such as consistently high traffic volumes on major roads. Outliers should be retained if they represent natural variations in traffic patterns, as removing them may lead to loss of important insights. A careful analysis of the data context ensures the best approach for maintaining accuracy and relevance in traffic flow predictions."
   ]
  },
  {
   "cell_type": "code",
   "execution_count": 101,
   "metadata": {},
   "outputs": [
    {
     "name": "stdout",
     "output_type": "stream",
     "text": [
      "Mean Absolute Error: 11550.335000000006\n",
      "Mean Squared Error: 325563643.9563753\n",
      "R-Squared: 0.964900306587183\n"
     ]
    }
   ],
   "source": [
    "from sklearn.metrics import mean_absolute_error, mean_squared_error, r2_score\n",
    "from sklearn.model_selection import train_test_split\n",
    "\n",
    "# Train-test split\n",
    "X_train, X_test, y_train, y_test = train_test_split(X_numeric, y, test_size=0.2, random_state=42)\n",
    "\n",
    "# Fit the model\n",
    "model = RandomForestRegressor()\n",
    "model.fit(X_train, y_train)\n",
    "\n",
    "# Predict on the test set\n",
    "y_pred = model.predict(X_test)\n",
    "\n",
    "# Evaluate the model\n",
    "mae = mean_absolute_error(y_test, y_pred)\n",
    "mse = mean_squared_error(y_test, y_pred)\n",
    "r2 = r2_score(y_test, y_pred)\n",
    "\n",
    "print(f\"Mean Absolute Error: {mae}\")\n",
    "print(f\"Mean Squared Error: {mse}\")\n",
    "print(f\"R-Squared: {r2}\")\n"
   ]
  },
  {
   "cell_type": "markdown",
   "metadata": {},
   "source": [
    "#### Question 12: You created a boxplot for a dataset and observed that one feature has a long right whisker, indicating a positive skew. What does this tell you about the data, and how would you address this issue before training your machine learning model?"
   ]
  },
  {
   "cell_type": "code",
   "execution_count": 102,
   "metadata": {},
   "outputs": [
    {
     "name": "stdout",
     "output_type": "stream",
     "text": [
      "Predicted AADT: 120674.14\n"
     ]
    }
   ],
   "source": [
    "# Predicting AADT for new data (for demonstration)\n",
    "new_data = pd.DataFrame({\n",
    "    'CAR': [50000],\n",
    "    'PUJ': [300],\n",
    "    'UV': [500],\n",
    "    'TAXI': [1000],\n",
    "    'PUB': [200],\n",
    "    'TRUCK': [1000],\n",
    "    'TRAILER': [100],\n",
    "    'MC': [1500],\n",
    "    'TRICYCLE': [100]\n",
    "})\n",
    "\n",
    "# Encoding the new data in the same way as training data\n",
    "new_data_encoded = pd.get_dummies(new_data, drop_first=True)\n",
    "new_data_pred = model.predict(new_data_encoded)\n",
    "\n",
    "print(f\"Predicted AADT: {new_data_pred[0]}\")\n"
   ]
  },
  {
   "cell_type": "markdown",
   "metadata": {},
   "source": [
    "A long right whisker in a boxplot indicates that the feature has a positive skew, meaning the data is right-skewed with a concentration of lower values and a few extreme high values (outliers). This suggests that the distribution is not normal, which can negatively impact machine learning models, especially those that assume normality (e.g., linear regression)."
   ]
  },
  {
   "cell_type": "code",
   "execution_count": 103,
   "metadata": {},
   "outputs": [
    {
     "name": "stdout",
     "output_type": "stream",
     "text": [
      "Original Skewness: 1.30\n",
      "Log Transformed Skewness: 0.59\n",
      "Square Root Transformed Skewness: 0.95\n",
      "Box-Cox Transformed Skewness: 0.11\n"
     ]
    },
    {
     "data": {
      "image/png": "[encoded data removed]",
      "text/plain": [
       "<Figure size 1200x500 with 2 Axes>"
      ]
     },
     "metadata": {},
     "output_type": "display_data"
    }
   ],
   "source": [
    "import numpy as np\n",
    "import pandas as pd\n",
    "import seaborn as sns\n",
    "import matplotlib.pyplot as plt\n",
    "from scipy.stats import boxcox\n",
    "\n",
    "# Check skewness\n",
    "skewness = df[\"AADT\"].skew()\n",
    "print(f\"Original Skewness: {skewness:.2f}\")\n",
    "\n",
    "# Plot original distribution\n",
    "plt.figure(figsize=(12, 5))\n",
    "plt.subplot(1, 2, 1)\n",
    "sns.boxplot(x=df[\"AADT\"])\n",
    "plt.title(\"Original Boxplot\")\n",
    "\n",
    "# Apply log transformation\n",
    "df[\"AADT_log\"] = np.log1p(df[\"AADT\"])  # log1p(x) = log(1 + x), avoids log(0) issues\n",
    "log_skewness = df[\"AADT_log\"].skew()\n",
    "print(f\"Log Transformed Skewness: {log_skewness:.2f}\")\n",
    "\n",
    "# Apply square root transformation\n",
    "df[\"AADT_sqrt\"] = np.sqrt(df[\"AADT\"])\n",
    "sqrt_skewness = df[\"AADT_sqrt\"].skew()\n",
    "print(f\"Square Root Transformed Skewness: {sqrt_skewness:.2f}\")\n",
    "\n",
    "# Apply Box-Cox transformation (only for positive values)\n",
    "df[\"AADT_boxcox\"], _ = boxcox(df[\"AADT\"])\n",
    "boxcox_skewness = pd.Series(df[\"AADT_boxcox\"]).skew()\n",
    "print(f\"Box-Cox Transformed Skewness: {boxcox_skewness:.2f}\")\n",
    "\n",
    "# Plot transformed distribution\n",
    "plt.subplot(1, 2, 2)\n",
    "sns.boxplot(x=df[\"AADT_log\"])\n",
    "plt.title(\"Log Transformed Boxplot\")\n",
    "\n",
    "plt.show()\n"
   ]
  },
  {
   "cell_type": "markdown",
   "metadata": {},
   "source": [
    "This shows that the effect of log transformation on skewness reduction. The original skewness of 1.30 indicates a right-skewed (positively skewed) distribution, meaning a few large values are pulling the tail to the right. After applying log transformation:\n",
    "\n",
    "- The skewness is reduced to 0.59, showing better symmetry.\n",
    "- The boxplot of AADT_log shows fewer extreme outliers compared to the original AADT.\n",
    "- This transformation helps improve the performance of machine learning models by ensuring a more normal-like distribution, leading to better generalization. If further normalization is needed, Box-Cox transformation (which reduced skewness to 0.11) could be a more effective alternative."
   ]
  },
  {
   "cell_type": "markdown",
   "metadata": {},
   "source": [
    "#### Conclusion"
   ]
  },
  {
   "cell_type": "markdown",
   "metadata": {},
   "source": [
    "- MAE of 11,153 indicates the average deviation from actual AADT values.\n",
    "- MSE of  296,071,548.65 suggests large errors impact performance, especially for extreme values.\n",
    "- R² is NaN due to a small test set; ensure a larger test set for reliable evaluation.\n",
    "- Outliers should be carefully addressed, as they can skew results.\n",
    "- Feature selection identified key predictors, but further data preprocessing is needed, especially for categorical variables.\n",
    "- The predicted AADT of 118,053.54 is based on the model, but the large errors suggest further model refinements are necessary."
   ]
  },
  {
   "cell_type": "code",
   "execution_count": 104,
   "metadata": {},
   "outputs": [
    {
     "name": "stdout",
     "output_type": "stream",
     "text": [
      "Notebook saved as C:\\Users\\Anjel\\Downloads\\Castillo_ML3.html\n"
     ]
    },
    {
     "name": "stderr",
     "output_type": "stream",
     "text": [
      "c:\\Users\\Anjel\\AppData\\Local\\Programs\\Python\\Python311\\share\\jupyter\\nbconvert\\templates\\base\\display_priority.j2:32: UserWarning:\n",
      "\n",
      "Your element with mimetype(s) dict_keys(['application/vnd.plotly.v1+json']) is not able to be represented.\n",
      "\n"
     ]
    }
   ],
   "source": [
    "from nbconvert import HTMLExporter\n",
    "import nbformat\n",
    "\n",
    "# Load your notebook file (.ipynb)\n",
    "notebook_filename = r'C:\\Users\\Anjel\\Downloads\\Castillo_ML3.ipynb'\n",
    "with open(notebook_filename) as f:\n",
    "    notebook_content = nbformat.read(f, as_version=4)\n",
    "\n",
    "# Initialize the HTML exporter\n",
    "html_exporter = HTMLExporter()\n",
    "\n",
    "# Export the notebook to HTML\n",
    "(body, resources) = html_exporter.from_notebook_node(notebook_content)\n",
    "\n",
    "# Save the exported HTML to a file\n",
    "html_filename = r'C:\\Users\\Anjel\\Downloads\\Castillo_ML3.html'\n",
    "with open(html_filename, 'w', encoding='utf-8') as f:\n",
    "    f.write(body)\n",
    "\n",
    "print(f'Notebook saved as {html_filename}')\n"
   ]
  }
 ],
 "metadata": {
  "kernelspec": {
   "display_name": "Python 3",
   "language": "python",
   "name": "python3"
  },
  "language_info": {
   "codemirror_mode": {
    "name": "ipython",
    "version": 3
   },
   "file_extension": ".py",
   "mimetype": "text/x-python",
   "name": "python",
   "nbconvert_exporter": "python",
   "pygments_lexer": "ipython3",
   "version": "3.11.3"
  }
 },
 "nbformat": 4,
 "nbformat_minor": 2
}
